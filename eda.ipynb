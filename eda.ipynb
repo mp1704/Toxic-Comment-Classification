{
 "cells": [
  {
   "cell_type": "markdown",
   "id": "f6ebebab-7afb-42cb-96c2-79bb35c41d0d",
   "metadata": {},
   "source": [
    "do some quick eda"
   ]
  },
  {
   "cell_type": "code",
   "execution_count": 1,
   "id": "c762b5df-bc87-46ee-bec1-5a4294b03c8e",
   "metadata": {},
   "outputs": [],
   "source": [
    "data_dir = './dataset'"
   ]
  },
  {
   "cell_type": "code",
   "execution_count": 11,
   "id": "cefd61d7-88ea-4c9b-b78d-79609733603f",
   "metadata": {},
   "outputs": [],
   "source": [
    "import pandas as pd\n",
    "import numpy as np"
   ]
  },
  {
   "cell_type": "code",
   "execution_count": null,
   "id": "711ed354-e271-42cf-967e-56f5c4080dbb",
   "metadata": {},
   "outputs": [],
   "source": []
  }
 ],
 "metadata": {
  "kernelspec": {
   "display_name": "Python 3 (ipykernel)",
   "language": "python",
   "name": "python3"
  },
  "language_info": {
   "codemirror_mode": {
    "name": "ipython",
    "version": 3
   },
   "file_extension": ".py",
   "mimetype": "text/x-python",
   "name": "python",
   "nbconvert_exporter": "python",
   "pygments_lexer": "ipython3",
   "version": "3.9.18"
  }
 },
 "nbformat": 4,
 "nbformat_minor": 5
}
